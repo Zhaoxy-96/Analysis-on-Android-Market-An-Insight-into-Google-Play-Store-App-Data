{
 "cells": [
  {
   "cell_type": "markdown",
   "metadata": {
    "slideshow": {
     "slide_type": "slide"
    }
   },
   "source": [
    "# Analysis on Android Market: An Insight into Google Play Store App Data\n",
    "### by _Xiaoya Zhao_\n",
    "\n",
    "\n",
    "## Table of Centents\n",
    "- [Introduction](#intro)\n",
    "- [Wrangling](#wrangling)\n",
    "    - [Gathering](#gather)\n",
    "    - [Assessing](#assess)\n",
    "    - [Cleaning](#clean)\n",
    "- [Univariate Exploration](#uni)\n",
    "- [Bivariate Exploration](#bi)\n",
    "- [Multivariate Exploration](#multi)"
   ]
  },
  {
   "cell_type": "markdown",
   "metadata": {
    "slideshow": {
     "slide_type": "slide"
    }
   },
   "source": [
    "<a id='intro'></a>\n",
    "## Introduction"
   ]
  },
  {
   "cell_type": "markdown",
   "metadata": {
    "slideshow": {
     "slide_type": "subslide"
    }
   },
   "source": [
    "The project aims to demonstrate the importance and value of data visualization techniques in the data analysis process in two parts: exploratory and explanatory visualizations. In specific, the dataset would be systematical explored, and findings such as properties, trends and relationships of the variables would be presented in a demonstrated slice.\n",
    "\n",
    "The original data of this study was provided by Lavanya Gupta in Kaggle. With the information about apps values (such as price, category,rating, size, and etc.), researcher are motivated to explore the enormous potential of the data and drive Android app-making businesses to success."
   ]
  },
  {
   "cell_type": "code",
   "execution_count": 1,
   "metadata": {
    "slideshow": {
     "slide_type": "skip"
    }
   },
   "outputs": [],
   "source": [
    "# import all packages and set plots to be embedded inline\n",
    "import numpy as np\n",
    "import pandas as pd\n",
    "import matplotlib.pyplot as plt\n",
    "import seaborn as sb\n",
    "import zipfile\n",
    "\n",
    "%matplotlib inline\n",
    "\n",
    "# suppress warnings from final output\n",
    "import warnings\n",
    "warnings.simplefilter(\"ignore\")"
   ]
  },
  {
   "cell_type": "markdown",
   "metadata": {
    "slideshow": {
     "slide_type": "slide"
    }
   },
   "source": [
    "<a id='wrangling'></a>\n",
    "## Wrangling\n",
    "The wrandling process includes three steps: gathering, assessing and cleaning.\n",
    "\n",
    "<a id='gather'></a>\n",
    "### Gathering\n",
    "Data were collected from Kaggle [Google Play Store Apps](https://www.kaggle.com/lava18/google-play-store-apps). The file was moved to the same directory of the project, and imported into pandas dataframe, named google_app."
   ]
  },
  {
   "cell_type": "code",
   "execution_count": 2,
   "metadata": {
    "slideshow": {
     "slide_type": "skip"
    }
   },
   "outputs": [],
   "source": [
    "# unzip the file\n",
    "with zipfile.ZipFile('Google_Play_Store_Apps.zip','r') as myzip:\n",
    "    myzip.extractall()\n",
    "\n",
    "# import file as dataframe\n",
    "google_app = pd.read_csv('googleplaystore.csv')"
   ]
  },
  {
   "cell_type": "markdown",
   "metadata": {
    "slideshow": {
     "slide_type": "subslide"
    }
   },
   "source": [
    "<a id='assess'></a>\n",
    "### Assessing\n",
    "Visual and programmatical assessment were applied."
   ]
  },
  {
   "cell_type": "code",
   "execution_count": 3,
   "metadata": {
    "slideshow": {
     "slide_type": "skip"
    }
   },
   "outputs": [
    {
     "data": {
      "text/html": [
       "<div>\n",
       "<style scoped>\n",
       "    .dataframe tbody tr th:only-of-type {\n",
       "        vertical-align: middle;\n",
       "    }\n",
       "\n",
       "    .dataframe tbody tr th {\n",
       "        vertical-align: top;\n",
       "    }\n",
       "\n",
       "    .dataframe thead th {\n",
       "        text-align: right;\n",
       "    }\n",
       "</style>\n",
       "<table border=\"1\" class=\"dataframe\">\n",
       "  <thead>\n",
       "    <tr style=\"text-align: right;\">\n",
       "      <th></th>\n",
       "      <th>App</th>\n",
       "      <th>Category</th>\n",
       "      <th>Rating</th>\n",
       "      <th>Reviews</th>\n",
       "      <th>Size</th>\n",
       "      <th>Installs</th>\n",
       "      <th>Type</th>\n",
       "      <th>Price</th>\n",
       "      <th>Content Rating</th>\n",
       "      <th>Genres</th>\n",
       "      <th>Last Updated</th>\n",
       "      <th>Current Ver</th>\n",
       "      <th>Android Ver</th>\n",
       "    </tr>\n",
       "  </thead>\n",
       "  <tbody>\n",
       "    <tr>\n",
       "      <th>0</th>\n",
       "      <td>Photo Editor &amp; Candy Camera &amp; Grid &amp; ScrapBook</td>\n",
       "      <td>ART_AND_DESIGN</td>\n",
       "      <td>4.1</td>\n",
       "      <td>159</td>\n",
       "      <td>19M</td>\n",
       "      <td>10,000+</td>\n",
       "      <td>Free</td>\n",
       "      <td>0</td>\n",
       "      <td>Everyone</td>\n",
       "      <td>Art &amp; Design</td>\n",
       "      <td>January 7, 2018</td>\n",
       "      <td>1.0.0</td>\n",
       "      <td>4.0.3 and up</td>\n",
       "    </tr>\n",
       "    <tr>\n",
       "      <th>1</th>\n",
       "      <td>Coloring book moana</td>\n",
       "      <td>ART_AND_DESIGN</td>\n",
       "      <td>3.9</td>\n",
       "      <td>967</td>\n",
       "      <td>14M</td>\n",
       "      <td>500,000+</td>\n",
       "      <td>Free</td>\n",
       "      <td>0</td>\n",
       "      <td>Everyone</td>\n",
       "      <td>Art &amp; Design;Pretend Play</td>\n",
       "      <td>January 15, 2018</td>\n",
       "      <td>2.0.0</td>\n",
       "      <td>4.0.3 and up</td>\n",
       "    </tr>\n",
       "    <tr>\n",
       "      <th>2</th>\n",
       "      <td>U Launcher Lite – FREE Live Cool Themes, Hide ...</td>\n",
       "      <td>ART_AND_DESIGN</td>\n",
       "      <td>4.7</td>\n",
       "      <td>87510</td>\n",
       "      <td>8.7M</td>\n",
       "      <td>5,000,000+</td>\n",
       "      <td>Free</td>\n",
       "      <td>0</td>\n",
       "      <td>Everyone</td>\n",
       "      <td>Art &amp; Design</td>\n",
       "      <td>August 1, 2018</td>\n",
       "      <td>1.2.4</td>\n",
       "      <td>4.0.3 and up</td>\n",
       "    </tr>\n",
       "    <tr>\n",
       "      <th>3</th>\n",
       "      <td>Sketch - Draw &amp; Paint</td>\n",
       "      <td>ART_AND_DESIGN</td>\n",
       "      <td>4.5</td>\n",
       "      <td>215644</td>\n",
       "      <td>25M</td>\n",
       "      <td>50,000,000+</td>\n",
       "      <td>Free</td>\n",
       "      <td>0</td>\n",
       "      <td>Teen</td>\n",
       "      <td>Art &amp; Design</td>\n",
       "      <td>June 8, 2018</td>\n",
       "      <td>Varies with device</td>\n",
       "      <td>4.2 and up</td>\n",
       "    </tr>\n",
       "    <tr>\n",
       "      <th>4</th>\n",
       "      <td>Pixel Draw - Number Art Coloring Book</td>\n",
       "      <td>ART_AND_DESIGN</td>\n",
       "      <td>4.3</td>\n",
       "      <td>967</td>\n",
       "      <td>2.8M</td>\n",
       "      <td>100,000+</td>\n",
       "      <td>Free</td>\n",
       "      <td>0</td>\n",
       "      <td>Everyone</td>\n",
       "      <td>Art &amp; Design;Creativity</td>\n",
       "      <td>June 20, 2018</td>\n",
       "      <td>1.1</td>\n",
       "      <td>4.4 and up</td>\n",
       "    </tr>\n",
       "  </tbody>\n",
       "</table>\n",
       "</div>"
      ],
      "text/plain": [
       "                                                 App        Category  Rating  \\\n",
       "0     Photo Editor & Candy Camera & Grid & ScrapBook  ART_AND_DESIGN     4.1   \n",
       "1                                Coloring book moana  ART_AND_DESIGN     3.9   \n",
       "2  U Launcher Lite – FREE Live Cool Themes, Hide ...  ART_AND_DESIGN     4.7   \n",
       "3                              Sketch - Draw & Paint  ART_AND_DESIGN     4.5   \n",
       "4              Pixel Draw - Number Art Coloring Book  ART_AND_DESIGN     4.3   \n",
       "\n",
       "  Reviews  Size     Installs  Type Price Content Rating  \\\n",
       "0     159   19M      10,000+  Free     0       Everyone   \n",
       "1     967   14M     500,000+  Free     0       Everyone   \n",
       "2   87510  8.7M   5,000,000+  Free     0       Everyone   \n",
       "3  215644   25M  50,000,000+  Free     0           Teen   \n",
       "4     967  2.8M     100,000+  Free     0       Everyone   \n",
       "\n",
       "                      Genres      Last Updated         Current Ver  \\\n",
       "0               Art & Design   January 7, 2018               1.0.0   \n",
       "1  Art & Design;Pretend Play  January 15, 2018               2.0.0   \n",
       "2               Art & Design    August 1, 2018               1.2.4   \n",
       "3               Art & Design      June 8, 2018  Varies with device   \n",
       "4    Art & Design;Creativity     June 20, 2018                 1.1   \n",
       "\n",
       "    Android Ver  \n",
       "0  4.0.3 and up  \n",
       "1  4.0.3 and up  \n",
       "2  4.0.3 and up  \n",
       "3    4.2 and up  \n",
       "4    4.4 and up  "
      ]
     },
     "execution_count": 3,
     "metadata": {},
     "output_type": "execute_result"
    }
   ],
   "source": [
    "google_app.head()"
   ]
  },
  {
   "cell_type": "code",
   "execution_count": 4,
   "metadata": {
    "slideshow": {
     "slide_type": "skip"
    }
   },
   "outputs": [
    {
     "name": "stdout",
     "output_type": "stream",
     "text": [
      "<class 'pandas.core.frame.DataFrame'>\n",
      "RangeIndex: 10841 entries, 0 to 10840\n",
      "Data columns (total 13 columns):\n",
      " #   Column          Non-Null Count  Dtype  \n",
      "---  ------          --------------  -----  \n",
      " 0   App             10841 non-null  object \n",
      " 1   Category        10841 non-null  object \n",
      " 2   Rating          9367 non-null   float64\n",
      " 3   Reviews         10841 non-null  object \n",
      " 4   Size            10841 non-null  object \n",
      " 5   Installs        10841 non-null  object \n",
      " 6   Type            10840 non-null  object \n",
      " 7   Price           10841 non-null  object \n",
      " 8   Content Rating  10840 non-null  object \n",
      " 9   Genres          10841 non-null  object \n",
      " 10  Last Updated    10841 non-null  object \n",
      " 11  Current Ver     10833 non-null  object \n",
      " 12  Android Ver     10838 non-null  object \n",
      "dtypes: float64(1), object(12)\n",
      "memory usage: 1.1+ MB\n"
     ]
    }
   ],
   "source": [
    "google_app.info()"
   ]
  },
  {
   "cell_type": "code",
   "execution_count": 5,
   "metadata": {
    "slideshow": {
     "slide_type": "skip"
    }
   },
   "outputs": [
    {
     "data": {
      "text/plain": [
       "FAMILY                 1972\n",
       "GAME                   1144\n",
       "TOOLS                   843\n",
       "MEDICAL                 463\n",
       "BUSINESS                460\n",
       "PRODUCTIVITY            424\n",
       "PERSONALIZATION         392\n",
       "COMMUNICATION           387\n",
       "SPORTS                  384\n",
       "LIFESTYLE               382\n",
       "FINANCE                 366\n",
       "HEALTH_AND_FITNESS      341\n",
       "PHOTOGRAPHY             335\n",
       "SOCIAL                  295\n",
       "NEWS_AND_MAGAZINES      283\n",
       "SHOPPING                260\n",
       "TRAVEL_AND_LOCAL        258\n",
       "DATING                  234\n",
       "BOOKS_AND_REFERENCE     231\n",
       "VIDEO_PLAYERS           175\n",
       "EDUCATION               156\n",
       "ENTERTAINMENT           149\n",
       "MAPS_AND_NAVIGATION     137\n",
       "FOOD_AND_DRINK          127\n",
       "HOUSE_AND_HOME           88\n",
       "LIBRARIES_AND_DEMO       85\n",
       "AUTO_AND_VEHICLES        85\n",
       "WEATHER                  82\n",
       "ART_AND_DESIGN           65\n",
       "EVENTS                   64\n",
       "COMICS                   60\n",
       "PARENTING                60\n",
       "BEAUTY                   53\n",
       "1.9                       1\n",
       "Name: Category, dtype: int64"
      ]
     },
     "execution_count": 5,
     "metadata": {},
     "output_type": "execute_result"
    }
   ],
   "source": [
    "google_app.Category.value_counts()"
   ]
  },
  {
   "cell_type": "code",
   "execution_count": 6,
   "metadata": {
    "slideshow": {
     "slide_type": "skip"
    }
   },
   "outputs": [
    {
     "data": {
      "text/html": [
       "<div>\n",
       "<style scoped>\n",
       "    .dataframe tbody tr th:only-of-type {\n",
       "        vertical-align: middle;\n",
       "    }\n",
       "\n",
       "    .dataframe tbody tr th {\n",
       "        vertical-align: top;\n",
       "    }\n",
       "\n",
       "    .dataframe thead th {\n",
       "        text-align: right;\n",
       "    }\n",
       "</style>\n",
       "<table border=\"1\" class=\"dataframe\">\n",
       "  <thead>\n",
       "    <tr style=\"text-align: right;\">\n",
       "      <th></th>\n",
       "      <th>App</th>\n",
       "      <th>Category</th>\n",
       "      <th>Rating</th>\n",
       "      <th>Reviews</th>\n",
       "      <th>Size</th>\n",
       "      <th>Installs</th>\n",
       "      <th>Type</th>\n",
       "      <th>Price</th>\n",
       "      <th>Content Rating</th>\n",
       "      <th>Genres</th>\n",
       "      <th>Last Updated</th>\n",
       "      <th>Current Ver</th>\n",
       "      <th>Android Ver</th>\n",
       "    </tr>\n",
       "  </thead>\n",
       "  <tbody>\n",
       "    <tr>\n",
       "      <th>10472</th>\n",
       "      <td>Life Made WI-Fi Touchscreen Photo Frame</td>\n",
       "      <td>1.9</td>\n",
       "      <td>19.0</td>\n",
       "      <td>3.0M</td>\n",
       "      <td>1,000+</td>\n",
       "      <td>Free</td>\n",
       "      <td>0</td>\n",
       "      <td>Everyone</td>\n",
       "      <td>NaN</td>\n",
       "      <td>February 11, 2018</td>\n",
       "      <td>1.0.19</td>\n",
       "      <td>4.0 and up</td>\n",
       "      <td>NaN</td>\n",
       "    </tr>\n",
       "  </tbody>\n",
       "</table>\n",
       "</div>"
      ],
      "text/plain": [
       "                                           App Category  Rating Reviews  \\\n",
       "10472  Life Made WI-Fi Touchscreen Photo Frame      1.9    19.0    3.0M   \n",
       "\n",
       "         Size Installs Type     Price Content Rating             Genres  \\\n",
       "10472  1,000+     Free    0  Everyone            NaN  February 11, 2018   \n",
       "\n",
       "      Last Updated Current Ver Android Ver  \n",
       "10472       1.0.19  4.0 and up         NaN  "
      ]
     },
     "execution_count": 6,
     "metadata": {},
     "output_type": "execute_result"
    }
   ],
   "source": [
    "google_app.loc[google_app['Category'] == \"1.9\"]"
   ]
  },
  {
   "cell_type": "code",
   "execution_count": 7,
   "metadata": {},
   "outputs": [
    {
     "data": {
      "text/plain": [
       "1,000,000+        1579\n",
       "10,000,000+       1252\n",
       "100,000+          1169\n",
       "10,000+           1054\n",
       "1,000+             907\n",
       "5,000,000+         752\n",
       "100+               719\n",
       "500,000+           539\n",
       "50,000+            479\n",
       "5,000+             477\n",
       "100,000,000+       409\n",
       "10+                386\n",
       "500+               330\n",
       "50,000,000+        289\n",
       "50+                205\n",
       "5+                  82\n",
       "500,000,000+        72\n",
       "1+                  67\n",
       "1,000,000,000+      58\n",
       "0+                  14\n",
       "Free                 1\n",
       "0                    1\n",
       "Name: Installs, dtype: int64"
      ]
     },
     "execution_count": 7,
     "metadata": {},
     "output_type": "execute_result"
    }
   ],
   "source": [
    "google_app.Installs.value_counts()"
   ]
  },
  {
   "cell_type": "code",
   "execution_count": 8,
   "metadata": {
    "scrolled": true,
    "slideshow": {
     "slide_type": "skip"
    }
   },
   "outputs": [
    {
     "data": {
      "text/html": [
       "<div>\n",
       "<style scoped>\n",
       "    .dataframe tbody tr th:only-of-type {\n",
       "        vertical-align: middle;\n",
       "    }\n",
       "\n",
       "    .dataframe tbody tr th {\n",
       "        vertical-align: top;\n",
       "    }\n",
       "\n",
       "    .dataframe thead th {\n",
       "        text-align: right;\n",
       "    }\n",
       "</style>\n",
       "<table border=\"1\" class=\"dataframe\">\n",
       "  <thead>\n",
       "    <tr style=\"text-align: right;\">\n",
       "      <th></th>\n",
       "      <th>App</th>\n",
       "      <th>Category</th>\n",
       "      <th>Rating</th>\n",
       "      <th>Reviews</th>\n",
       "      <th>Size</th>\n",
       "      <th>Installs</th>\n",
       "      <th>Type</th>\n",
       "      <th>Price</th>\n",
       "      <th>Content Rating</th>\n",
       "      <th>Genres</th>\n",
       "      <th>Last Updated</th>\n",
       "      <th>Current Ver</th>\n",
       "      <th>Android Ver</th>\n",
       "    </tr>\n",
       "  </thead>\n",
       "  <tbody>\n",
       "    <tr>\n",
       "      <th>649</th>\n",
       "      <td>Healthy Relationships Guide</td>\n",
       "      <td>DATING</td>\n",
       "      <td>NaN</td>\n",
       "      <td>0</td>\n",
       "      <td>8.2M</td>\n",
       "      <td>1+</td>\n",
       "      <td>Free</td>\n",
       "      <td>0</td>\n",
       "      <td>Everyone</td>\n",
       "      <td>Dating</td>\n",
       "      <td>July 31, 2018</td>\n",
       "      <td>2.0</td>\n",
       "      <td>4.0.3 and up</td>\n",
       "    </tr>\n",
       "    <tr>\n",
       "      <th>652</th>\n",
       "      <td>PlusOne</td>\n",
       "      <td>DATING</td>\n",
       "      <td>NaN</td>\n",
       "      <td>0</td>\n",
       "      <td>10M</td>\n",
       "      <td>1+</td>\n",
       "      <td>Free</td>\n",
       "      <td>0</td>\n",
       "      <td>Mature 17+</td>\n",
       "      <td>Dating</td>\n",
       "      <td>July 17, 2018</td>\n",
       "      <td>1.1.1</td>\n",
       "      <td>4.2 and up</td>\n",
       "    </tr>\n",
       "    <tr>\n",
       "      <th>659</th>\n",
       "      <td>Diamond Engagement Rings</td>\n",
       "      <td>DATING</td>\n",
       "      <td>NaN</td>\n",
       "      <td>0</td>\n",
       "      <td>3.5M</td>\n",
       "      <td>5+</td>\n",
       "      <td>Free</td>\n",
       "      <td>0</td>\n",
       "      <td>Everyone</td>\n",
       "      <td>Dating</td>\n",
       "      <td>July 12, 2018</td>\n",
       "      <td>6.1</td>\n",
       "      <td>4.0 and up</td>\n",
       "    </tr>\n",
       "    <tr>\n",
       "      <th>2422</th>\n",
       "      <td>Visualmed</td>\n",
       "      <td>MEDICAL</td>\n",
       "      <td>NaN</td>\n",
       "      <td>0</td>\n",
       "      <td>3.1M</td>\n",
       "      <td>1+</td>\n",
       "      <td>Paid</td>\n",
       "      <td>$2.99</td>\n",
       "      <td>Everyone</td>\n",
       "      <td>Medical</td>\n",
       "      <td>August 1, 2018</td>\n",
       "      <td>1.0</td>\n",
       "      <td>4.1 and up</td>\n",
       "    </tr>\n",
       "    <tr>\n",
       "      <th>2425</th>\n",
       "      <td>Be the Expert in Phlebotomy - Professional Nur...</td>\n",
       "      <td>MEDICAL</td>\n",
       "      <td>NaN</td>\n",
       "      <td>0</td>\n",
       "      <td>5.0M</td>\n",
       "      <td>1+</td>\n",
       "      <td>Paid</td>\n",
       "      <td>$0.99</td>\n",
       "      <td>Everyone</td>\n",
       "      <td>Medical</td>\n",
       "      <td>July 24, 2018</td>\n",
       "      <td>1.0</td>\n",
       "      <td>4.0.3 and up</td>\n",
       "    </tr>\n",
       "    <tr>\n",
       "      <th>...</th>\n",
       "      <td>...</td>\n",
       "      <td>...</td>\n",
       "      <td>...</td>\n",
       "      <td>...</td>\n",
       "      <td>...</td>\n",
       "      <td>...</td>\n",
       "      <td>...</td>\n",
       "      <td>...</td>\n",
       "      <td>...</td>\n",
       "      <td>...</td>\n",
       "      <td>...</td>\n",
       "      <td>...</td>\n",
       "      <td>...</td>\n",
       "    </tr>\n",
       "    <tr>\n",
       "      <th>10701</th>\n",
       "      <td>F-O-Meter</td>\n",
       "      <td>FAMILY</td>\n",
       "      <td>NaN</td>\n",
       "      <td>0</td>\n",
       "      <td>2.8M</td>\n",
       "      <td>1+</td>\n",
       "      <td>Free</td>\n",
       "      <td>0</td>\n",
       "      <td>Mature 17+</td>\n",
       "      <td>Entertainment</td>\n",
       "      <td>August 2, 2018</td>\n",
       "      <td>1.0.1</td>\n",
       "      <td>4.0 and up</td>\n",
       "    </tr>\n",
       "    <tr>\n",
       "      <th>10708</th>\n",
       "      <td>Custos F.O.</td>\n",
       "      <td>BUSINESS</td>\n",
       "      <td>NaN</td>\n",
       "      <td>0</td>\n",
       "      <td>9.7M</td>\n",
       "      <td>1+</td>\n",
       "      <td>Free</td>\n",
       "      <td>0</td>\n",
       "      <td>Everyone</td>\n",
       "      <td>Business</td>\n",
       "      <td>June 20, 2018</td>\n",
       "      <td>4.1.0</td>\n",
       "      <td>4.1 and up</td>\n",
       "    </tr>\n",
       "    <tr>\n",
       "      <th>10745</th>\n",
       "      <td>FP Boss</td>\n",
       "      <td>FINANCE</td>\n",
       "      <td>NaN</td>\n",
       "      <td>1</td>\n",
       "      <td>5.8M</td>\n",
       "      <td>1+</td>\n",
       "      <td>Free</td>\n",
       "      <td>0</td>\n",
       "      <td>Everyone</td>\n",
       "      <td>Finance</td>\n",
       "      <td>July 27, 2018</td>\n",
       "      <td>1.0.2</td>\n",
       "      <td>5.0 and up</td>\n",
       "    </tr>\n",
       "    <tr>\n",
       "      <th>10764</th>\n",
       "      <td>FP Transportation</td>\n",
       "      <td>AUTO_AND_VEHICLES</td>\n",
       "      <td>NaN</td>\n",
       "      <td>1</td>\n",
       "      <td>885k</td>\n",
       "      <td>1+</td>\n",
       "      <td>Free</td>\n",
       "      <td>0</td>\n",
       "      <td>Everyone</td>\n",
       "      <td>Auto &amp; Vehicles</td>\n",
       "      <td>March 9, 2018</td>\n",
       "      <td>10.0.0</td>\n",
       "      <td>4.0 and up</td>\n",
       "    </tr>\n",
       "    <tr>\n",
       "      <th>10775</th>\n",
       "      <td>FQ - Football Quiz</td>\n",
       "      <td>SPORTS</td>\n",
       "      <td>NaN</td>\n",
       "      <td>1</td>\n",
       "      <td>9.0M</td>\n",
       "      <td>1+</td>\n",
       "      <td>Free</td>\n",
       "      <td>0</td>\n",
       "      <td>Everyone</td>\n",
       "      <td>Sports</td>\n",
       "      <td>May 29, 2018</td>\n",
       "      <td>1.0</td>\n",
       "      <td>5.0 and up</td>\n",
       "    </tr>\n",
       "  </tbody>\n",
       "</table>\n",
       "<p>165 rows × 13 columns</p>\n",
       "</div>"
      ],
      "text/plain": [
       "                                                     App           Category  \\\n",
       "649                          Healthy Relationships Guide             DATING   \n",
       "652                                              PlusOne             DATING   \n",
       "659                             Diamond Engagement Rings             DATING   \n",
       "2422                                           Visualmed            MEDICAL   \n",
       "2425   Be the Expert in Phlebotomy - Professional Nur...            MEDICAL   \n",
       "...                                                  ...                ...   \n",
       "10701                                          F-O-Meter             FAMILY   \n",
       "10708                                        Custos F.O.           BUSINESS   \n",
       "10745                                            FP Boss            FINANCE   \n",
       "10764                                  FP Transportation  AUTO_AND_VEHICLES   \n",
       "10775                                 FQ - Football Quiz             SPORTS   \n",
       "\n",
       "       Rating Reviews  Size Installs  Type  Price Content Rating  \\\n",
       "649       NaN       0  8.2M       1+  Free      0       Everyone   \n",
       "652       NaN       0   10M       1+  Free      0     Mature 17+   \n",
       "659       NaN       0  3.5M       5+  Free      0       Everyone   \n",
       "2422      NaN       0  3.1M       1+  Paid  $2.99       Everyone   \n",
       "2425      NaN       0  5.0M       1+  Paid  $0.99       Everyone   \n",
       "...       ...     ...   ...      ...   ...    ...            ...   \n",
       "10701     NaN       0  2.8M       1+  Free      0     Mature 17+   \n",
       "10708     NaN       0  9.7M       1+  Free      0       Everyone   \n",
       "10745     NaN       1  5.8M       1+  Free      0       Everyone   \n",
       "10764     NaN       1  885k       1+  Free      0       Everyone   \n",
       "10775     NaN       1  9.0M       1+  Free      0       Everyone   \n",
       "\n",
       "                Genres    Last Updated Current Ver   Android Ver  \n",
       "649             Dating   July 31, 2018         2.0  4.0.3 and up  \n",
       "652             Dating   July 17, 2018       1.1.1    4.2 and up  \n",
       "659             Dating   July 12, 2018         6.1    4.0 and up  \n",
       "2422           Medical  August 1, 2018         1.0    4.1 and up  \n",
       "2425           Medical   July 24, 2018         1.0  4.0.3 and up  \n",
       "...                ...             ...         ...           ...  \n",
       "10701    Entertainment  August 2, 2018       1.0.1    4.0 and up  \n",
       "10708         Business   June 20, 2018       4.1.0    4.1 and up  \n",
       "10745          Finance   July 27, 2018       1.0.2    5.0 and up  \n",
       "10764  Auto & Vehicles   March 9, 2018      10.0.0    4.0 and up  \n",
       "10775           Sports    May 29, 2018         1.0    5.0 and up  \n",
       "\n",
       "[165 rows x 13 columns]"
      ]
     },
     "execution_count": 8,
     "metadata": {},
     "output_type": "execute_result"
    }
   ],
   "source": [
    "google_app.loc[google_app['Installs'].isin(['0','Free','0+','1+','5+'])]"
   ]
  },
  {
   "cell_type": "markdown",
   "metadata": {
    "slideshow": {
     "slide_type": "subslide"
    }
   },
   "source": [
    "#### Quality\n",
    "- Erroneous datatype\n",
    "    \n",
    "        Reviews(should be int)\n",
    "        Price(should be float)\n",
    "        Last Updated(should be dateframe)\n",
    "        Size(should be float)\n",
    "\n",
    "- Missing values in columns\n",
    "    \n",
    "        Rating, Type, Content Rating, Current ver and Android ver;\n",
    "\n",
    "- Invalid value\n",
    "        The categories in column 'Installs' 0, 0+ and 1+ should be combined as 0+.\n",
    "            \n",
    "#### Tideness\n",
    "- Data mismatch columns\n",
    "        For the row (index = 10472), value in the second column is missing.\n",
    "        Then, the rest values do not fit the column.\n",
    "        \n",
    "- Incorrect strucure\n",
    "        Column 'Installs' should be an ordered quantitative data"
   ]
  },
  {
   "cell_type": "markdown",
   "metadata": {
    "slideshow": {
     "slide_type": "subslide"
    }
   },
   "source": [
    "<a id='clean'></a>\n",
    "### Cleaning\n",
    "Each quality or tideness problem assessed above would be cleaned one by one. The cleaning process includes: define, coding and testing."
   ]
  },
  {
   "cell_type": "code",
   "execution_count": 9,
   "metadata": {
    "slideshow": {
     "slide_type": "skip"
    }
   },
   "outputs": [],
   "source": [
    "# copy the original dataframe for cleaning\n",
    "google_app_clean = google_app.copy()"
   ]
  },
  {
   "cell_type": "markdown",
   "metadata": {
    "slideshow": {
     "slide_type": "skip"
    }
   },
   "source": [
    "##### Define_1\n",
    "To simplize the data visualization, the NaN values in Rating column would be filled in with mean value"
   ]
  },
  {
   "cell_type": "markdown",
   "metadata": {
    "slideshow": {
     "slide_type": "skip"
    }
   },
   "source": [
    "##### Code_1"
   ]
  },
  {
   "cell_type": "code",
   "execution_count": 10,
   "metadata": {
    "slideshow": {
     "slide_type": "skip"
    }
   },
   "outputs": [],
   "source": [
    "mean = google_app_clean.Rating.mean()\n",
    "google_app_clean.Rating.fillna(mean, inplace = True)"
   ]
  },
  {
   "cell_type": "markdown",
   "metadata": {
    "slideshow": {
     "slide_type": "skip"
    }
   },
   "source": [
    "##### Text_1"
   ]
  },
  {
   "cell_type": "code",
   "execution_count": 11,
   "metadata": {
    "slideshow": {
     "slide_type": "skip"
    }
   },
   "outputs": [
    {
     "data": {
      "text/plain": [
       "0"
      ]
     },
     "execution_count": 11,
     "metadata": {},
     "output_type": "execute_result"
    }
   ],
   "source": [
    "google_app_clean.Rating.isnull().sum()"
   ]
  },
  {
   "cell_type": "markdown",
   "metadata": {
    "slideshow": {
     "slide_type": "skip"
    }
   },
   "source": [
    "##### Define_2\n",
    "Rewrite the row with structure problem (index = 10472)"
   ]
  },
  {
   "cell_type": "markdown",
   "metadata": {
    "slideshow": {
     "slide_type": "skip"
    }
   },
   "source": [
    "##### Code_2"
   ]
  },
  {
   "cell_type": "code",
   "execution_count": 12,
   "metadata": {
    "slideshow": {
     "slide_type": "skip"
    }
   },
   "outputs": [],
   "source": [
    "google_app_clean.loc[10472] = ['Life Made Wi=Fi Touchscreen Photo Frame','LIFESTYLE',1.9,'19','3.0M','1,000+','Free','0','Everyone',np.nan,'February 11, 2018','1.0.19','4.0 and up']"
   ]
  },
  {
   "cell_type": "markdown",
   "metadata": {
    "slideshow": {
     "slide_type": "skip"
    }
   },
   "source": [
    "##### Test_2"
   ]
  },
  {
   "cell_type": "code",
   "execution_count": 13,
   "metadata": {
    "slideshow": {
     "slide_type": "skip"
    }
   },
   "outputs": [
    {
     "data": {
      "text/plain": [
       "App               Life Made Wi=Fi Touchscreen Photo Frame\n",
       "Category                                        LIFESTYLE\n",
       "Rating                                                1.9\n",
       "Reviews                                                19\n",
       "Size                                                 3.0M\n",
       "Installs                                           1,000+\n",
       "Type                                                 Free\n",
       "Price                                                   0\n",
       "Content Rating                                   Everyone\n",
       "Genres                                                NaN\n",
       "Last Updated                            February 11, 2018\n",
       "Current Ver                                        1.0.19\n",
       "Android Ver                                    4.0 and up\n",
       "Name: 10472, dtype: object"
      ]
     },
     "execution_count": 13,
     "metadata": {},
     "output_type": "execute_result"
    }
   ],
   "source": [
    "google_app_clean.loc[10472]"
   ]
  },
  {
   "cell_type": "markdown",
   "metadata": {
    "slideshow": {
     "slide_type": "skip"
    }
   },
   "source": [
    "##### Define_3\n",
    "Convert Reviews, Price,Last Updated, and Size to int, float, datetime, and float separately"
   ]
  },
  {
   "cell_type": "markdown",
   "metadata": {
    "slideshow": {
     "slide_type": "skip"
    }
   },
   "source": [
    "##### Code_3"
   ]
  },
  {
   "cell_type": "code",
   "execution_count": 14,
   "metadata": {
    "slideshow": {
     "slide_type": "skip"
    }
   },
   "outputs": [],
   "source": [
    "# Reviews\n",
    "google_app_clean['Reviews'] = google_app_clean.Reviews.astype(int)\n",
    "# Price\n",
    "google_app_clean['Price'] = google_app_clean.Price.str.strip('$')[1]    #remove $ from the Price\n",
    "google_app_clean['Price'] = google_app_clean.Price.astype(float)\n",
    "# Last Update\n",
    "google_app_clean['Last Updated'] = pd.to_datetime(google_app_clean['Last Updated'])"
   ]
  },
  {
   "cell_type": "code",
   "execution_count": 15,
   "metadata": {
    "slideshow": {
     "slide_type": "skip"
    }
   },
   "outputs": [],
   "source": [
    "# Size (with unit as MB)\n",
    "\n",
    "# data1 - size with kb as unit\n",
    "data1 = google_app_clean[google_app_clean['Size'].str.contains('k')]\n",
    "# get the number in the Size column\n",
    "data1['Size'] = data1.Size.str.extract('(\\d+)')\n",
    "data1['Size'] = (data1.Size.astype(float) / 1024).round(2)\n",
    "\n",
    "# data2 - size with mb as unit\n",
    "data2 = google_app_clean[google_app_clean['Size'].str.contains('M')]\n",
    "data2['Size'] = data2.Size.str.extract('(\\d+)').astype(float)\n",
    "\n",
    "# data3 - size with invalid value 'Varies with device'\n",
    "data3 = google_app_clean[google_app_clean['Size'].str.contains('V')]\n",
    "data3['Size'] = np.nan\n",
    "\n",
    "# merge the two dataset\n",
    "google_app_clean = pd.concat([data1,data2,data3],ignore_index = True)"
   ]
  },
  {
   "cell_type": "markdown",
   "metadata": {
    "slideshow": {
     "slide_type": "skip"
    }
   },
   "source": [
    "##### Test_3"
   ]
  },
  {
   "cell_type": "code",
   "execution_count": 16,
   "metadata": {
    "slideshow": {
     "slide_type": "skip"
    }
   },
   "outputs": [
    {
     "name": "stdout",
     "output_type": "stream",
     "text": [
      "<class 'pandas.core.frame.DataFrame'>\n",
      "RangeIndex: 10841 entries, 0 to 10840\n",
      "Data columns (total 13 columns):\n",
      " #   Column          Non-Null Count  Dtype         \n",
      "---  ------          --------------  -----         \n",
      " 0   App             10841 non-null  object        \n",
      " 1   Category        10841 non-null  object        \n",
      " 2   Rating          10841 non-null  float64       \n",
      " 3   Reviews         10841 non-null  int32         \n",
      " 4   Size            9146 non-null   float64       \n",
      " 5   Installs        10841 non-null  object        \n",
      " 6   Type            10840 non-null  object        \n",
      " 7   Price           10841 non-null  float64       \n",
      " 8   Content Rating  10841 non-null  object        \n",
      " 9   Genres          10840 non-null  object        \n",
      " 10  Last Updated    10841 non-null  datetime64[ns]\n",
      " 11  Current Ver     10833 non-null  object        \n",
      " 12  Android Ver     10839 non-null  object        \n",
      "dtypes: datetime64[ns](1), float64(3), int32(1), object(8)\n",
      "memory usage: 1.0+ MB\n"
     ]
    }
   ],
   "source": [
    "google_app_clean.info()"
   ]
  },
  {
   "cell_type": "markdown",
   "metadata": {
    "slideshow": {
     "slide_type": "skip"
    }
   },
   "source": [
    "##### Define_4\n",
    "The value 0, 0+ and 1+ in column Installs need to be merged as 0+"
   ]
  },
  {
   "cell_type": "markdown",
   "metadata": {
    "slideshow": {
     "slide_type": "skip"
    }
   },
   "source": [
    "##### Code_4"
   ]
  },
  {
   "cell_type": "code",
   "execution_count": 17,
   "metadata": {
    "slideshow": {
     "slide_type": "skip"
    }
   },
   "outputs": [],
   "source": [
    "google_app_clean.Installs.replace({'0':'0+','1+':'0+'},inplace = True)"
   ]
  },
  {
   "cell_type": "markdown",
   "metadata": {
    "slideshow": {
     "slide_type": "skip"
    }
   },
   "source": [
    "##### Text_4"
   ]
  },
  {
   "cell_type": "code",
   "execution_count": 18,
   "metadata": {
    "slideshow": {
     "slide_type": "skip"
    }
   },
   "outputs": [
    {
     "data": {
      "text/plain": [
       "0"
      ]
     },
     "execution_count": 18,
     "metadata": {},
     "output_type": "execute_result"
    }
   ],
   "source": [
    "len(google_app_clean.loc[google_app_clean['Installs'].isin(['0','1+'])])"
   ]
  },
  {
   "cell_type": "code",
   "execution_count": 19,
   "metadata": {
    "slideshow": {
     "slide_type": "skip"
    }
   },
   "outputs": [],
   "source": [
    "# Store the cleaned data in a CSV file\n",
    "google_app_clean.to_csv('cleaned_google_play_app_data.csv', index = False)"
   ]
  },
  {
   "cell_type": "markdown",
   "metadata": {
    "slideshow": {
     "slide_type": "slide"
    }
   },
   "source": [
    "### What is the structure of your dataset?\n",
    "\n",
    "The data was updated on Kaggle last year. \n",
    "\n",
    "There are __10841__ apps in Google Play App store included. With each app, there are __13__ kinds of information, which includes: App (name), Category, Rating, Reviews, Size, Installs, Type, Price, Content Rating, Genres, Last Updated, Current Ver, and Android Ver.\n",
    "\n",
    "### What is/are the main feature(s) of interest in your dataset?\n",
    "\n",
    "There are two main features in the dataset: __app information__ and __user feedback__.\n",
    "\n",
    "The app information includes app's name, size, category and price (or free). The user feedback, which can help to predict and contribute to the Android market, includes rating score, reviews number, installs.\n",
    "\n",
    "### What features in the dataset do you think will help support your investigation into your feature(s) of interest?\n",
    "\n",
    "The values in app information and user feedback will be utilized heavily. \n",
    "\n",
    "The app information can reveal the popularity of design of apps among companies. At the same time. the rating, reviews and installs can present the popularity of the Android market among users.\n",
    "\n",
    "With further explore the relationship between the App features and its popularity, it is supposed to predict the popularity of an App by its information."
   ]
  },
  {
   "cell_type": "markdown",
   "metadata": {
    "slideshow": {
     "slide_type": "slide"
    }
   },
   "source": [
    "<a id = 'uni'></a>\n",
    "## Univariate Exploration\n",
    "The univariate exploration would be applied in this part to get general perception of the data.\n",
    "About the App:\n",
    "\n",
    "- Which category of App occupy the most of the Android market?\n",
    "- How is the percentage of Free and Paid App in the Android market?\n",
    "- How is the size of Apps distributed?\n",
    "\n",
    "About the user feedback:\n",
    "\n",
    "- How is the rating score (quality) distributed in Android market? Would it skewed to any side?\n",
    "- How is the number of installs (popularity) distributed in Android market? \n"
   ]
  },
  {
   "cell_type": "code",
   "execution_count": 20,
   "metadata": {
    "slideshow": {
     "slide_type": "skip"
    }
   },
   "outputs": [],
   "source": [
    "#import the cleaned data\n",
    "df = pd.read_csv('cleaned_google_play_app_data.csv')"
   ]
  },
  {
   "cell_type": "markdown",
   "metadata": {
    "slideshow": {
     "slide_type": "slide"
    }
   },
   "source": [
    "#### Which category of App occupy the most of the Android market?"
   ]
  },
  {
   "cell_type": "code",
   "execution_count": 21,
   "metadata": {
    "slideshow": {
     "slide_type": "subslide"
    }
   },
   "outputs": [
    {
     "data": {
      "image/png": "[encoded data removed]",
      "text/plain": [
       "<Figure size 864x576 with 1 Axes>"
      ]
     },
     "metadata": {
      "needs_background": "light"
     },
     "output_type": "display_data"
    }
   ],
   "source": [
    "# uniform the corlor\n",
    "base_color = sb.color_palette()[0]\n",
    "\n",
    "# set the order of the result\n",
    "order = df.Category.value_counts().index\n",
    "\n",
    "# barplot - the category and the Android market\n",
    "plt.figure(figsize = [12,8])\n",
    "sb.countplot(data = df, y = 'Category', color = base_color, order = order);\n",
    "\n",
    "plt.title('Popularity of Different Types of App')\n",
    "plt.xlabel('Count')\n",
    "plt.ylabel('Categories')\n",
    "\n",
    "# add the percentage\n",
    "num_type = len(df.Category.value_counts())\n",
    "for i in range (num_type):\n",
    "    count = df.Category.value_counts()[i]\n",
    "    plt.text(count+1, i, '{:.2f}%'.format(count * 100 /df.shape[0]), va = 'center')"
   ]
  },
  {
   "cell_type": "markdown",
   "metadata": {
    "slideshow": {
     "slide_type": "subslide"
    }
   },
   "source": [
    "The bar plot reveals that there 33 types of App in the current Android market. The number of each category range from about 55 to 1900. Among those types, the Family, Game and Tools are the top three most popular Apps, occupying the market with 18.09%, 10.55% and 7.78% respectively."
   ]
  },
  {
   "cell_type": "markdown",
   "metadata": {
    "slideshow": {
     "slide_type": "slide"
    }
   },
   "source": [
    "#### How is the percentage of Free and Paid App in the Android market?\n",
    "#### How is the size of Apps distributed?"
   ]
  },
  {
   "cell_type": "code",
   "execution_count": 22,
   "metadata": {
    "slideshow": {
     "slide_type": "subslide"
    }
   },
   "outputs": [
    {
     "data": {
      "image/png": "[encoded data removed]",
      "text/plain": [
       "<Figure size 1008x432 with 2 Axes>"
      ]
     },
     "metadata": {
      "needs_background": "light"
     },
     "output_type": "display_data"
    }
   ],
   "source": [
    "# pie chart - percentage of Free or Paid App\n",
    "# draw the pie chart in order\n",
    "plt.figure(figsize = [14,6])\n",
    "\n",
    "plt.subplot(1,2,1)\n",
    "sorted_counts = df['Type'].value_counts()\n",
    "plt.pie(sorted_counts, labels = sorted_counts.index, autopct='%.2f%%', startangle = 90,\n",
    "        counterclock = False, pctdistance=0.5, labeldistance=1.2);\n",
    "plt.legend(bbox_to_anchor=(0.8, 0.9));\n",
    "\n",
    "# hist = distribution of App sizes\n",
    "plt.subplot(1,2,2)\n",
    "\n",
    "bins = 10 ** np.arange(-2, 2, 0.1)\n",
    "ticks = [0.01,0.03,0.1,0.3,1,3,10,30,100]\n",
    "labels = ['{}'.format(v) for v in ticks]\n",
    "plt.hist(data = df, x = 'Size', bins = bins);\n",
    "# the size (range from 0.01 to 100) should be log transformation\n",
    "plt.xscale('log')\n",
    "plt.xticks(ticks, labels);\n",
    "plt.title('Apps Size (log transformed)');\n",
    "plt.xlabel('log transformed App Size (MB)');\n",
    "plt.ylabel('Count');"
   ]
  },
  {
   "cell_type": "markdown",
   "metadata": {
    "slideshow": {
     "slide_type": "subslide"
    }
   },
   "source": [
    "The pie chart reveal that most of Apps (92.62%) in the Android market are free to download.\n",
    "\n",
    "The log transformed histogram reveal that the App Size is bimodel, with peak at around 4MB and 28 MB."
   ]
  },
  {
   "cell_type": "markdown",
   "metadata": {
    "slideshow": {
     "slide_type": "slide"
    }
   },
   "source": [
    "#### How is the rating score (quality) distributed in Android market? Would it skewed to any side?\n",
    "#### How is the number of installs (popularity) distributed in Android market?"
   ]
  },
  {
   "cell_type": "code",
   "execution_count": 23,
   "metadata": {
    "scrolled": true,
    "slideshow": {
     "slide_type": "subslide"
    }
   },
   "outputs": [
    {
     "data": {
      "image/png": "[encoded data removed]",
      "text/plain": [
       "<Figure size 1008x432 with 2 Axes>"
      ]
     },
     "metadata": {
      "needs_background": "light"
     },
     "output_type": "display_data"
    }
   ],
   "source": [
    "# hist - distribution of rating score\n",
    "plt.figure(figsize = [14,6])\n",
    "\n",
    "plt.subplot(1,2,1)\n",
    "plt.hist(data = df, x = 'Rating');\n",
    "plt.xlabel('Rating_Score')\n",
    "plt.ylabel('Counts')\n",
    "\n",
    "# bar - distribution of number of install\n",
    "plt.subplot(1,2,2)\n",
    "# set Installs in order\n",
    "install_order = ['0+','5+','10+','50+','100+','500+','1,000+','5,000+','10,000+','50,000+','100,000+','500,000+','1,000,000+','5,000,000+','10,000,000+','50,000,000+','100,000,000+','500,000,000+','1,000,000,000+']\n",
    "install_order = pd.api.types.CategoricalDtype(categories = install_order, ordered = True)\n",
    "df['Installs'] = df.Installs.astype(install_order)\n",
    "\n",
    "sb.countplot(data = df, x = 'Installs',color = base_color);\n",
    "plt.xticks(rotation = 45);"
   ]
  },
  {
   "cell_type": "markdown",
   "metadata": {
    "slideshow": {
     "slide_type": "subslide"
    }
   },
   "source": [
    "The left histogram reveals that the rating score is strongly lefr skewed, with peak around 4.2.\n",
    "\n",
    "The right bar chart is kind of tricky since the gap between adjacent ticks are differnt. However, it still demonstrates that the number of installs is left skewed, with the peak located between 1,000,000 and 5,000,000."
   ]
  },
  {
   "cell_type": "markdown",
   "metadata": {
    "slideshow": {
     "slide_type": "slide"
    }
   },
   "source": [
    "### Discuss the distribution(s) of your variable(s) of interest. Were there any unusual points? Did you need to perform any transformations?\n",
    "\n",
    "For the App features:\n",
    "- The family, game and tools are the most popular categories in Android market;\n",
    "- Most of Apps are free to download;\n",
    "- The size of Apps reveals huge range (0.01MB to 100MB), and peaks at 4MB and 28MB\n",
    "\n",
    "For the User feedback:\n",
    "- The rating score is left skewed and peaked at around 4.2 (with 5 as full score);\n",
    "- The distribution of installs is left skewed, with peak between 1,000,000 and 5,000,000\n",
    "\n",
    "The distribution of size of Apps strongly right skewed. A log transformation was performed.\n",
    "\n",
    "### Of the features you investigated, were there any unusual distributions? Did you perform any operations on the data to tidy, adjust, or change the form of the data? If so, why did you do this?\n",
    "\n",
    "There was no unusual distributions of the invested features. Only order parameter was set to keep the number of install located from small to large."
   ]
  },
  {
   "cell_type": "markdown",
   "metadata": {
    "slideshow": {
     "slide_type": "slide"
    }
   },
   "source": [
    "<a id = 'bi'></a>\n",
    "## Bivariate Exploration\n",
    "The bivariate exploration would be applied in this part to explore the relationship between app features and relevant user feedback:\n",
    "- Are the paid Apps have higher mean rating score than free Apps?\n",
    "- What are the rating scores for the most three popoular App categories (Family, Game and Tools)?\n",
    "- Is there a relationship between App size and rating score?"
   ]
  },
  {
   "cell_type": "markdown",
   "metadata": {
    "slideshow": {
     "slide_type": "slide"
    }
   },
   "source": [
    "#### Are the paid Apps have higher rating score than free Apps?"
   ]
  },
  {
   "cell_type": "code",
   "execution_count": 24,
   "metadata": {
    "scrolled": true,
    "slideshow": {
     "slide_type": "subslide"
    }
   },
   "outputs": [
    {
     "data": {
      "image/png": "[encoded data removed]",
      "text/plain": [
       "<Figure size 432x288 with 1 Axes>"
      ]
     },
     "metadata": {
      "needs_background": "light"
     },
     "output_type": "display_data"
    }
   ],
   "source": [
    "# boxplot - type and rating\n",
    "sb.boxplot(data = df, x = 'Type', y = 'Rating');\n",
    "\n",
    "plt.title('Rating score for Free and Paid Apps');"
   ]
  },
  {
   "cell_type": "markdown",
   "metadata": {
    "slideshow": {
     "slide_type": "subslide"
    }
   },
   "source": [
    "The boxplot revealed that paid Apps had a slightly higher median rating score than that of free apps. This can be explained by many outliers below minmun score in Free Apps."
   ]
  },
  {
   "cell_type": "markdown",
   "metadata": {
    "slideshow": {
     "slide_type": "slide"
    }
   },
   "source": [
    "#### What are the rating scores for the most three popoular App categories (Family, Game and Tools)?"
   ]
  },
  {
   "cell_type": "code",
   "execution_count": 25,
   "metadata": {
    "scrolled": true,
    "slideshow": {
     "slide_type": "subslide"
    }
   },
   "outputs": [
    {
     "data": {
      "image/png": "[encoded data removed]",
      "text/plain": [
       "<Figure size 432x288 with 1 Axes>"
      ]
     },
     "metadata": {
      "needs_background": "light"
     },
     "output_type": "display_data"
    }
   ],
   "source": [
    "# create a sub datefrome only with top three categories\n",
    "df_sub = df.loc[df['Category'].isin(['FAMILY','GAME','TOOLS'])]\n",
    "\n",
    "# violin plor - categories and score\n",
    "sb.violinplot(data = df_sub, x = 'Category', y = 'Rating',\n",
    "             inner = 'quartile',color = base_color)\n",
    "plt.title(\"Top Three Categories' Rating Score \");"
   ]
  },
  {
   "cell_type": "markdown",
   "metadata": {
    "slideshow": {
     "slide_type": "subslide"
    }
   },
   "source": [
    "Game Apps revealed a slightly higher rating score than tools and family categories, with median scored around 4.2. And it is interesting to see all of these categories have a \"long tail\" - many outliers below the minmun rating score. "
   ]
  },
  {
   "cell_type": "markdown",
   "metadata": {},
   "source": [
    "#### Is there a relationship between App size and rating score?"
   ]
  },
  {
   "cell_type": "code",
   "execution_count": 26,
   "metadata": {
    "scrolled": false
   },
   "outputs": [
    {
     "data": {
      "image/png": "[encoded data removed]",
      "text/plain": [
       "<Figure size 432x288 with 1 Axes>"
      ]
     },
     "metadata": {
      "needs_background": "light"
     },
     "output_type": "display_data"
    }
   ],
   "source": [
    "# scatter plot - size and rating score\n",
    "plt.scatter(data = df, x = 'Size', y = 'Rating',alpha = 0.2);\n",
    "\n",
    "ticks = [0.01,0.03,0.1,0.3,1,3,10,30,100]\n",
    "labels = ['{}'.format(v) for v in ticks]\n",
    "plt.xscale('log')\n",
    "plt.xticks(ticks,labels);\n",
    "plt.title('App Size and Rating Score');\n",
    "plt.xlabel('Size (log transformed)');\n",
    "plt.ylabel('Rating Score');"
   ]
  },
  {
   "cell_type": "markdown",
   "metadata": {},
   "source": [
    "The scatter plot revealed that there is no clear linear relationship between size and rating score. For the Apps with small sizes are always scored higher than 3, however, the low score Apps are always consist of Apps with big sizes. This may because people have more expectations for Apps with big sizes."
   ]
  },
  {
   "cell_type": "markdown",
   "metadata": {},
   "source": [
    "<a id = 'multi'></a>\n",
    "## Multivariate Exploration\n",
    "The multivariate exploration was conducted in this part to reveal the relationship between rating_score, top-three categories and App size."
   ]
  },
  {
   "cell_type": "code",
   "execution_count": 27,
   "metadata": {},
   "outputs": [
    {
     "data": {
      "image/png": "[encoded data removed]",
      "text/plain": [
       "<Figure size 432x288 with 1 Axes>"
      ]
     },
     "metadata": {
      "needs_background": "light"
     },
     "output_type": "display_data"
    }
   ],
   "source": [
    "# usting shape to distinguish the top-three categories\n",
    "ttype_markers = [['FAMILY','o'],\n",
    "                ['GAME','^'],\n",
    "                ['TOOLS','*']]\n",
    "df_sub2 = df_sub.sample(3000)\n",
    "for ttype, marker in ttype_markers:\n",
    "    plot_data = df_sub2.loc[df_sub['Category'] == ttype]\n",
    "    sb.regplot(data = plot_data, x = 'Size', y = 'Rating',\n",
    "              fit_reg = False, marker = marker, scatter_kws = {'alpha':0.5},\n",
    "              x_jitter = 0.1);\n",
    "    plt.xscale('log')\n",
    "    ticks = [0.01,0.03,0.1,0.3,1,3,10,30,100]\n",
    "    labels = ['{}'.format(v) for v in ticks]\n",
    "    plt.xticks(ticks,labels)\n",
    "plt.title(\"App's Size, Rating Score in the Top-Three Categories\")\n",
    "plt.legend(['FAMILY','GAME','TOOLS']);"
   ]
  },
  {
   "cell_type": "markdown",
   "metadata": {},
   "source": [
    "The scatter plot with three categories revealed that tool Apps are usually with small size. And the opposite is that most of games are with big sizes. It is clear that the rating for games are higher than family and tools categories. "
   ]
  },
  {
   "cell_type": "markdown",
   "metadata": {},
   "source": [
    "jupyter nbconvert <file_name>.ipynb --to slides --post serve --template output_toggle"
   ]
  }
 ],
 "metadata": {
  "kernelspec": {
   "display_name": "Python 3",
   "language": "python",
   "name": "python3"
  },
  "language_info": {
   "codemirror_mode": {
    "name": "ipython",
    "version": 3
   },
   "file_extension": ".py",
   "mimetype": "text/x-python",
   "name": "python",
   "nbconvert_exporter": "python",
   "pygments_lexer": "ipython3",
   "version": "3.7.7"
  }
 },
 "nbformat": 4,
 "nbformat_minor": 2
}
